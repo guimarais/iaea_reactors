{
 "cells": [
  {
   "cell_type": "code",
   "execution_count": 57,
   "id": "966be560-68d3-4d92-826a-cc2d352bb383",
   "metadata": {},
   "outputs": [],
   "source": [
    "import pandas as pd\n",
    "import matplotlib.pyplot as plt\n",
    "import seaborn as sns\n",
    "\n",
    "sns.set_style('whitegrid', {'font.sans-serif':'Laksaman'})"
   ]
  },
  {
   "cell_type": "code",
   "execution_count": 58,
   "id": "aea50dea-29fb-41c8-a3fa-de754c888e06",
   "metadata": {},
   "outputs": [],
   "source": [
    "df = pd.read_csv(\"./datasets_clean/2020Table14_clean.csv\")"
   ]
  },
  {
   "cell_type": "code",
   "execution_count": 59,
   "id": "ebcfa732-321d-45bb-aa4a-67db492ea8b1",
   "metadata": {},
   "outputs": [
    {
     "data": {
      "text/html": [
       "<div>\n",
       "<style scoped>\n",
       "    .dataframe tbody tr th:only-of-type {\n",
       "        vertical-align: middle;\n",
       "    }\n",
       "\n",
       "    .dataframe tbody tr th {\n",
       "        vertical-align: top;\n",
       "    }\n",
       "\n",
       "    .dataframe thead th {\n",
       "        text-align: right;\n",
       "    }\n",
       "</style>\n",
       "<table border=\"1\" class=\"dataframe\">\n",
       "  <thead>\n",
       "    <tr style=\"text-align: right;\">\n",
       "      <th></th>\n",
       "      <th>Country</th>\n",
       "      <th>Code</th>\n",
       "      <th>Name</th>\n",
       "      <th>Type</th>\n",
       "      <th>Model</th>\n",
       "      <th>ThermalPower</th>\n",
       "      <th>Gross</th>\n",
       "      <th>Net</th>\n",
       "      <th>Operator</th>\n",
       "      <th>Provider</th>\n",
       "      <th>EAF</th>\n",
       "      <th>UCF</th>\n",
       "      <th>Start</th>\n",
       "      <th>Connection</th>\n",
       "      <th>Operation</th>\n",
       "      <th>Construction_time</th>\n",
       "    </tr>\n",
       "  </thead>\n",
       "  <tbody>\n",
       "    <tr>\n",
       "      <th>0</th>\n",
       "      <td>ARGENTINA</td>\n",
       "      <td>AR -1</td>\n",
       "      <td>ATUCHA-1</td>\n",
       "      <td>PHWR</td>\n",
       "      <td>PHWR KWU</td>\n",
       "      <td>1179</td>\n",
       "      <td>362</td>\n",
       "      <td>340</td>\n",
       "      <td>NASA</td>\n",
       "      <td>SIEMENS</td>\n",
       "      <td>74.5</td>\n",
       "      <td>75.5</td>\n",
       "      <td>1968-06-01</td>\n",
       "      <td>1974-03-01</td>\n",
       "      <td>1974-06-01 00:00:00</td>\n",
       "      <td>2099</td>\n",
       "    </tr>\n",
       "    <tr>\n",
       "      <th>1</th>\n",
       "      <td>ARGENTINA</td>\n",
       "      <td>AR -2</td>\n",
       "      <td>EMBALSE</td>\n",
       "      <td>PHWR</td>\n",
       "      <td>CANDU 6</td>\n",
       "      <td>2064</td>\n",
       "      <td>656</td>\n",
       "      <td>608</td>\n",
       "      <td>NASA</td>\n",
       "      <td>AECL</td>\n",
       "      <td>78.6</td>\n",
       "      <td>78.9</td>\n",
       "      <td>1974-04-01</td>\n",
       "      <td>1983-04-01</td>\n",
       "      <td>1984-01-01 00:00:00</td>\n",
       "      <td>3287</td>\n",
       "    </tr>\n",
       "    <tr>\n",
       "      <th>2</th>\n",
       "      <td>ARGENTINA</td>\n",
       "      <td>AR -3</td>\n",
       "      <td>ATUCHA-2</td>\n",
       "      <td>PHWR</td>\n",
       "      <td>PHWR KWU</td>\n",
       "      <td>2160</td>\n",
       "      <td>745</td>\n",
       "      <td>693</td>\n",
       "      <td>NASA</td>\n",
       "      <td>SIEMENS</td>\n",
       "      <td>53.1</td>\n",
       "      <td>53.1</td>\n",
       "      <td>1981-07-01</td>\n",
       "      <td>2014-06-01</td>\n",
       "      <td>2016-05-01 00:00:00</td>\n",
       "      <td>12023</td>\n",
       "    </tr>\n",
       "    <tr>\n",
       "      <th>3</th>\n",
       "      <td>ARMENIA</td>\n",
       "      <td>AM -19</td>\n",
       "      <td>ARMENIAN-2</td>\n",
       "      <td>PWR</td>\n",
       "      <td>VVER V-270</td>\n",
       "      <td>1375</td>\n",
       "      <td>451</td>\n",
       "      <td>415</td>\n",
       "      <td>ANPPCJSC</td>\n",
       "      <td>FAEA</td>\n",
       "      <td>65.6</td>\n",
       "      <td>67.7</td>\n",
       "      <td>1975-07-01</td>\n",
       "      <td>1980-01-01</td>\n",
       "      <td>1980-05-01 00:00:00</td>\n",
       "      <td>1645</td>\n",
       "    </tr>\n",
       "    <tr>\n",
       "      <th>4</th>\n",
       "      <td>BELARUS</td>\n",
       "      <td>BY -1</td>\n",
       "      <td>BELARUSIAN-1</td>\n",
       "      <td>PWR</td>\n",
       "      <td>VVER V-491</td>\n",
       "      <td>3200</td>\n",
       "      <td>1194</td>\n",
       "      <td>1110</td>\n",
       "      <td>BelNPP</td>\n",
       "      <td>JSC ASE</td>\n",
       "      <td>0.0</td>\n",
       "      <td>0.0</td>\n",
       "      <td>2013-11-01</td>\n",
       "      <td>2020-11-01</td>\n",
       "      <td>NaN</td>\n",
       "      <td>2557</td>\n",
       "    </tr>\n",
       "  </tbody>\n",
       "</table>\n",
       "</div>"
      ],
      "text/plain": [
       "     Country      Code          Name   Type       Model  ThermalPower  Gross  \\\n",
       "0  ARGENTINA  AR -1         ATUCHA-1  PHWR     PHWR KWU          1179    362   \n",
       "1  ARGENTINA  AR -2          EMBALSE  PHWR      CANDU 6          2064    656   \n",
       "2  ARGENTINA  AR -3         ATUCHA-2  PHWR     PHWR KWU          2160    745   \n",
       "3    ARMENIA  AM -19      ARMENIAN-2  PWR    VVER V-270          1375    451   \n",
       "4    BELARUS  BY -1     BELARUSIAN-1  PWR    VVER V-491          3200   1194   \n",
       "\n",
       "    Net  Operator Provider   EAF   UCF       Start  Connection  \\\n",
       "0   340      NASA  SIEMENS  74.5  75.5  1968-06-01  1974-03-01   \n",
       "1   608      NASA     AECL  78.6  78.9  1974-04-01  1983-04-01   \n",
       "2   693      NASA  SIEMENS  53.1  53.1  1981-07-01  2014-06-01   \n",
       "3   415  ANPPCJSC     FAEA  65.6  67.7  1975-07-01  1980-01-01   \n",
       "4  1110    BelNPP  JSC ASE   0.0   0.0  2013-11-01  2020-11-01   \n",
       "\n",
       "             Operation  Construction_time  \n",
       "0  1974-06-01 00:00:00               2099  \n",
       "1  1984-01-01 00:00:00               3287  \n",
       "2  2016-05-01 00:00:00              12023  \n",
       "3  1980-05-01 00:00:00               1645  \n",
       "4                  NaN               2557  "
      ]
     },
     "execution_count": 59,
     "metadata": {},
     "output_type": "execute_result"
    }
   ],
   "source": [
    "df.head()"
   ]
  },
  {
   "cell_type": "code",
   "execution_count": 60,
   "id": "94369ca4-dcfb-46a4-99f2-9f1e0ae4cf82",
   "metadata": {},
   "outputs": [
    {
     "data": {
      "text/plain": [
       "(0.0, 100.0)"
      ]
     },
     "execution_count": 60,
     "metadata": {},
     "output_type": "execute_result"
    },
    {
     "data": {
      "image/png": "[encoded data removed]",
      "text/plain": [
       "<Figure size 400x400 with 1 Axes>"
      ]
     },
     "metadata": {},
     "output_type": "display_data"
    }
   ],
   "source": [
    "fig, ax = plt.subplots(figsize=(4,4))\n",
    "sns.histplot(df['UCF'], kde=False, ax=ax, bins=50)\n",
    "ax.set_title(\"Unit Capacity Factor distribution\", loc='left')\n",
    "ax.set_xlim(0, 100)"
   ]
  },
  {
   "cell_type": "code",
   "execution_count": 72,
   "id": "8ee259d6-6681-4bd3-825f-aad51406f464",
   "metadata": {},
   "outputs": [],
   "source": [
    "top10 = df.groupby(['Country'])['Net'].agg('sum').sort_values()[::-1][0:10].to_frame().reset_index()"
   ]
  },
  {
   "cell_type": "code",
   "execution_count": 80,
   "id": "92c2bc88-3e37-4190-91c3-81ae24e87cc2",
   "metadata": {},
   "outputs": [
    {
     "data": {
      "image/png": "[encoded data removed]",
      "text/plain": [
       "<Figure size 500x400 with 1 Axes>"
      ]
     },
     "metadata": {},
     "output_type": "display_data"
    }
   ],
   "source": [
    "fig, ax = plt.subplots(figsize=(5,4))\n",
    "sns.barplot(x='Country', y='Net', data=top10, ax=ax)\n",
    "ax.set_xticklabels(ax.get_xticklabels(),rotation = 90)\n",
    "ax.set_ylabel('Net power [MW]')\n",
    "ax.set_title('Top 10 countries by installed power', loc='left')\n",
    "plt.show()"
   ]
  },
  {
   "cell_type": "code",
   "execution_count": null,
   "id": "8f2cf241-379d-490c-a163-0a58cda97370",
   "metadata": {},
   "outputs": [],
   "source": []
  }
 ],
 "metadata": {
  "kernelspec": {
   "display_name": "Python 3 (ipykernel)",
   "language": "python",
   "name": "python3"
  },
  "language_info": {
   "codemirror_mode": {
    "name": "ipython",
    "version": 3
   },
   "file_extension": ".py",
   "mimetype": "text/x-python",
   "name": "python",
   "nbconvert_exporter": "python",
   "pygments_lexer": "ipython3",
   "version": "3.10.6"
  }
 },
 "nbformat": 4,
 "nbformat_minor": 5
}
